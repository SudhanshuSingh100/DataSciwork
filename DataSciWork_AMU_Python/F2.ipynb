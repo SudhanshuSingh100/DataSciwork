{
 "cells": [
  {
   "cell_type": "markdown",
   "metadata": {},
   "source": [
    "Installing packages in Python"
   ]
  },
  {
   "cell_type": "code",
   "execution_count": 1,
   "metadata": {},
   "outputs": [
    {
     "name": "stdout",
     "output_type": "stream",
     "text": [
      "Requirement already satisfied: seaborn in c:\\users\\pd147\\appdata\\local\\continuum\\anaconda3\\lib\\site-packages (0.8.1)\n",
      "Requirement already satisfied: numpy in c:\\users\\pd147\\appdata\\local\\continuum\\anaconda3\\lib\\site-packages (from seaborn) (1.14.0)\n",
      "Requirement already satisfied: scipy in c:\\users\\pd147\\appdata\\local\\continuum\\anaconda3\\lib\\site-packages (from seaborn) (1.0.0)\n",
      "Requirement already satisfied: matplotlib in c:\\users\\pd147\\appdata\\local\\continuum\\anaconda3\\lib\\site-packages (from seaborn) (2.1.2)\n",
      "Requirement already satisfied: pandas in c:\\users\\pd147\\appdata\\local\\continuum\\anaconda3\\lib\\site-packages (from seaborn) (0.22.0)\n",
      "Requirement already satisfied: six>=1.10 in c:\\users\\pd147\\appdata\\local\\continuum\\anaconda3\\lib\\site-packages (from matplotlib->seaborn) (1.11.0)\n",
      "Requirement already satisfied: python-dateutil>=2.1 in c:\\users\\pd147\\appdata\\local\\continuum\\anaconda3\\lib\\site-packages (from matplotlib->seaborn) (2.6.1)\n",
      "Requirement already satisfied: pytz in c:\\users\\pd147\\appdata\\local\\continuum\\anaconda3\\lib\\site-packages (from matplotlib->seaborn) (2017.3)\n",
      "Requirement already satisfied: cycler>=0.10 in c:\\users\\pd147\\appdata\\local\\continuum\\anaconda3\\lib\\site-packages (from matplotlib->seaborn) (0.10.0)\n",
      "Requirement already satisfied: pyparsing!=2.0.4,!=2.1.2,!=2.1.6,>=2.0.1 in c:\\users\\pd147\\appdata\\local\\continuum\\anaconda3\\lib\\site-packages (from matplotlib->seaborn) (2.2.0)\n"
     ]
    },
    {
     "name": "stderr",
     "output_type": "stream",
     "text": [
      "You are using pip version 10.0.1, however version 18.1 is available.\n",
      "You should consider upgrading via the 'python -m pip install --upgrade pip' command.\n"
     ]
    }
   ],
   "source": [
    "!pip install seaborn"
   ]
  },
  {
   "cell_type": "markdown",
   "metadata": {},
   "source": [
    "Checking list of packages"
   ]
  },
  {
   "cell_type": "code",
   "execution_count": 2,
   "metadata": {},
   "outputs": [
    {
     "name": "stdout",
     "output_type": "stream",
     "text": [
      "Package                            Version   \n",
      "---------------------------------- ----------\n",
      "alabaster                          0.7.10    \n",
      "anaconda-client                    1.6.9     \n",
      "anaconda-navigator                 1.7.0     \n",
      "anaconda-project                   0.8.2     \n",
      "arch                               4.3.1     \n",
      "asn1crypto                         0.24.0    \n",
      "astroid                            1.6.1     \n",
      "astropy                            2.0.3     \n",
      "attrs                              17.4.0    \n",
      "Babel                              2.5.3     \n",
      "backports.shutil-get-terminal-size 1.0.0     \n",
      "beautifulsoup4                     4.6.0     \n",
      "bitarray                           0.8.1     \n",
      "bizdays                            0.2.0     \n",
      "bkcharts                           0.2       \n",
      "blaze                              0.11.3    \n",
      "bleach                             2.1.2     \n",
      "bokeh                              0.12.13   \n",
      "boto                               2.48.0    \n",
      "Bottleneck                         1.2.1     \n",
      "ccy                                0.7.0     \n",
      "certifi                            2018.1.18 \n",
      "cffi                               1.11.4    \n",
      "chardet                            3.0.4     \n",
      "click                              6.7       \n",
      "cloudpickle                        0.5.2     \n",
      "clyent                             1.2.2     \n",
      "colorama                           0.3.9     \n",
      "colorlover                         0.2.1     \n",
      "comtypes                           1.1.4     \n",
      "conda                              4.4.10    \n",
      "conda-build                        3.4.1     \n",
      "conda-verify                       2.0.0     \n",
      "contextlib2                        0.5.5     \n",
      "cryptography                       2.1.4     \n",
      "cufflinks                          0.12.1    \n",
      "cycler                             0.10.0    \n",
      "Cython                             0.27.3    \n",
      "cytoolz                            0.9.0     \n",
      "dask                               0.16.1    \n",
      "datashape                          0.5.4     \n",
      "decorator                          4.2.1     \n",
      "distributed                        1.20.2    \n",
      "docutils                           0.14      \n",
      "dx                                 0.1       \n",
      "empyrical                          0.4.2     \n",
      "entrypoints                        0.2.3     \n",
      "et-xmlfile                         1.0.1     \n",
      "exchange                           0.3       \n",
      "fastcache                          1.0.2     \n",
      "ffn                                0.3.3     \n",
      "filelock                           2.0.13    \n",
      "fix-yahoo-finance                  0.0.21    \n",
      "Flask                              0.12.2    \n",
      "Flask-Cors                         3.0.3     \n",
      "future                             0.16.0    \n",
      "gevent                             1.2.2     \n",
      "glob2                              0.6       \n",
      "googlefinance                      0.7       \n",
      "graphviz                           0.8.4     \n",
      "greenlet                           0.4.12    \n",
      "h5py                               2.7.1     \n",
      "heapdict                           1.0.0     \n",
      "html5lib                           1.0.1     \n",
      "IBMQuantumExperience               1.9.0     \n",
      "idna                               2.6       \n",
      "imageio                            2.2.0     \n",
      "imagesize                          0.7.1     \n",
      "inflection                         0.3.1     \n",
      "ipykernel                          4.8.2     \n",
      "ipython                            6.2.1     \n",
      "ipython-genutils                   0.2.0     \n",
      "ipywidgets                         7.1.1     \n",
      "isort                              4.2.15    \n",
      "itsdangerous                       0.24      \n",
      "jdcal                              1.3       \n",
      "jedi                               0.11.1    \n",
      "Jinja2                             2.10      \n",
      "jsonschema                         2.6.0     \n",
      "jupyter                            1.0.0     \n",
      "jupyter-client                     5.2.2     \n",
      "jupyter-console                    5.2.0     \n",
      "jupyter-core                       4.4.0     \n",
      "jupyterlab                         0.31.4    \n",
      "jupyterlab-launcher                0.10.2    \n",
      "lazy-object-proxy                  1.3.1     \n",
      "llvmlite                           0.21.0    \n",
      "locket                             0.2.0     \n",
      "Logbook                            1.3.0     \n",
      "lxml                               4.1.1     \n",
      "Markdown                           2.6.11    \n",
      "MarkupSafe                         1.0       \n",
      "matplotlib                         2.1.2     \n",
      "mccabe                             0.6.1     \n",
      "menuinst                           1.4.11    \n",
      "mistune                            0.8.3     \n",
      "mlxtend                            0.12.0    \n",
      "more-itertools                     4.1.0     \n",
      "mpmath                             1.0.0     \n",
      "msgpack-python                     0.5.1     \n",
      "multipledispatch                   0.4.9     \n",
      "multitasking                       0.0.7     \n",
      "navigator-updater                  0.1.0     \n",
      "nbconvert                          5.3.1     \n",
      "nbformat                           4.4.0     \n",
      "ndg-httpsclient                    0.5.0     \n",
      "networkx                           2.0       \n",
      "nltk                               3.2.5     \n",
      "nose                               1.3.7     \n",
      "notebook                           5.4.0     \n",
      "ntlm-auth                          1.1.0     \n",
      "numba                              0.36.2    \n",
      "numexpr                            2.6.4     \n",
      "numpy                              1.14.0    \n",
      "numpydoc                           0.7.0     \n",
      "oauthlib                           2.1.0     \n",
      "odo                                0.5.1     \n",
      "olefile                            0.45.1    \n",
      "openpyxl                           2.4.10    \n",
      "packaging                          16.8      \n",
      "pandas                             0.22.0    \n",
      "pandas-datareader                  0.6.0     \n",
      "pandas-finance                     0.1.2     \n",
      "pandas-market-calendars            0.15      \n",
      "pandocfilters                      1.4.2     \n",
      "parso                              0.1.1     \n",
      "partd                              0.3.8     \n",
      "path.py                            10.5      \n",
      "pathlib2                           2.3.0     \n",
      "patsy                              0.5.0     \n",
      "pep8                               1.7.1     \n",
      "pickleshare                        0.7.4     \n",
      "Pillow                             5.0.0     \n",
      "pip                                10.0.1    \n",
      "pkginfo                            1.4.1     \n",
      "plotly                             2.7.0     \n",
      "pluggy                             0.6.0     \n",
      "ply                                3.10      \n",
      "ppf                                1.0       \n",
      "prompt-toolkit                     1.0.15    \n",
      "psutil                             5.4.3     \n",
      "py                                 1.5.2     \n",
      "pyasn1                             0.4.2     \n",
      "pycodestyle                        2.3.1     \n",
      "pycosat                            0.6.3     \n",
      "pycparser                          2.18      \n",
      "pycrypto                           2.6.1     \n",
      "pycurl                             7.43.0.1  \n",
      "pydotplus                          2.0.2     \n",
      "pyfin                              1.0.0a1   \n",
      "pyflakes                           1.6.0     \n",
      "pyfolio                            0.8.0     \n",
      "Pygments                           2.2.0     \n",
      "pylint                             1.8.2     \n",
      "pyodbc                             4.0.22    \n",
      "pyOpenSSL                          17.5.0    \n",
      "pyparsing                          2.2.0     \n",
      "PyPrind                            2.11.2    \n",
      "PySocks                            1.6.7     \n",
      "pytest                             3.3.2     \n",
      "python-dateutil                    2.6.1     \n",
      "pytz                               2017.3    \n",
      "PyWavelets                         0.5.2     \n",
      "pywin32                            222       \n",
      "pywinpty                           0.5       \n",
      "PyYAML                             3.12      \n",
      "pyzmq                              16.0.3    \n",
      "qfrm                               0.2.0.27  \n",
      "qiskit                             0.4.11    \n",
      "QtAwesome                          0.4.4     \n",
      "qtconsole                          4.3.1     \n",
      "qtk                                0.1.3     \n",
      "QtPy                               1.3.1     \n",
      "Quandl                             3.3.0     \n",
      "quantitative                       1.0b0     \n",
      "QuantLib-Python                    1.12      \n",
      "quantpy                            0.0.2.dev5\n",
      "requests                           2.18.4    \n",
      "requests-cache                     0.4.13    \n",
      "requests-file                      1.4.3     \n",
      "requests-ftp                       0.3.1     \n",
      "requests-ntlm                      1.1.0     \n",
      "requests-oauthlib                  0.8.0     \n",
      "rope                               0.10.7    \n",
      "ruamel-yaml                        0.15.35   \n",
      "scikit-image                       0.13.1    \n",
      "scikit-learn                       0.19.1    \n",
      "scipy                              1.0.0     \n",
      "seaborn                            0.8.1     \n",
      "Send2Trash                         1.4.2     \n",
      "setuptools                         38.4.0    \n",
      "simplegeneric                      0.8.1     \n",
      "simplejson                         3.13.2    \n",
      "singledispatch                     3.4.0.3   \n",
      "six                                1.11.0    \n",
      "snowballstemmer                    1.2.1     \n",
      "sortedcollections                  0.5.3     \n",
      "sortedcontainers                   1.5.9     \n",
      "Sphinx                             1.6.6     \n",
      "sphinxcontrib-websupport           1.0.1     \n",
      "spyder                             3.2.6     \n",
      "SQLAlchemy                         1.2.1     \n",
      "statistics                         1.0.3.5   \n",
      "statsmodels                        0.8.0     \n",
      "sympy                              1.1.1     \n",
      "tables                             3.4.2     \n",
      "tabulate                           0.8.2     \n",
      "tblib                              1.3.2     \n",
      "terminado                          0.8.1     \n",
      "testpath                           0.3.1     \n",
      "textblob                           0.15.1    \n",
      "toolz                              0.9.0     \n",
      "tornado                            4.5.3     \n",
      "traitlets                          4.3.2     \n",
      "tweepy                             3.6.0     \n",
      "typing                             3.6.2     \n",
      "unicodecsv                         0.14.1    \n",
      "urllib3                            1.22      \n",
      "wcwidth                            0.1.7     \n",
      "webencodings                       0.5.1     \n",
      "Werkzeug                           0.14.1    \n",
      "wheel                              0.30.0    \n",
      "widgetsnbextension                 3.1.0     \n",
      "win-inet-pton                      1.0.1     \n",
      "win-unicode-console                0.5       \n",
      "wincertstore                       0.2       \n",
      "wrapt                              1.10.11   \n",
      "xlrd                               1.1.0     \n",
      "XlsxWriter                         1.0.2     \n",
      "xlwings                            0.11.5    \n",
      "xlwt                               1.3.0     \n",
      "yahoo-finance                      1.4.0     \n",
      "zict                               0.1.3     \n"
     ]
    },
    {
     "name": "stderr",
     "output_type": "stream",
     "text": [
      "You are using pip version 10.0.1, however version 18.1 is available.\n",
      "You should consider upgrading via the 'python -m pip install --upgrade pip' command.\n"
     ]
    }
   ],
   "source": [
    "!pip list"
   ]
  },
  {
   "cell_type": "markdown",
   "metadata": {},
   "source": [
    "1. Numeric"
   ]
  },
  {
   "cell_type": "code",
   "execution_count": null,
   "metadata": {},
   "outputs": [],
   "source": [
    "x=2.5\n",
    "x"
   ]
  },
  {
   "cell_type": "code",
   "execution_count": null,
   "metadata": {},
   "outputs": [],
   "source": [
    "x1='Premnath'\n",
    "x1"
   ]
  },
  {
   "cell_type": "code",
   "execution_count": null,
   "metadata": {},
   "outputs": [],
   "source": [
    "x1[2]"
   ]
  },
  {
   "cell_type": "code",
   "execution_count": null,
   "metadata": {},
   "outputs": [],
   "source": [
    "x1[2]='a'"
   ]
  },
  {
   "cell_type": "code",
   "execution_count": null,
   "metadata": {},
   "outputs": [],
   "source": [
    "x2=(2,'a',100,\"Near\")\n",
    "x2"
   ]
  },
  {
   "cell_type": "code",
   "execution_count": null,
   "metadata": {},
   "outputs": [],
   "source": [
    "type(x2)"
   ]
  },
  {
   "cell_type": "code",
   "execution_count": null,
   "metadata": {},
   "outputs": [],
   "source": [
    "x2[1]"
   ]
  },
  {
   "cell_type": "code",
   "execution_count": null,
   "metadata": {},
   "outputs": [],
   "source": [
    "x2[1]=60"
   ]
  },
  {
   "cell_type": "code",
   "execution_count": null,
   "metadata": {},
   "outputs": [],
   "source": [
    "len(x2)"
   ]
  },
  {
   "cell_type": "code",
   "execution_count": null,
   "metadata": {},
   "outputs": [],
   "source": [
    "x3=[x2]\n",
    "x3"
   ]
  },
  {
   "cell_type": "code",
   "execution_count": null,
   "metadata": {},
   "outputs": [],
   "source": [
    "type(x3)"
   ]
  },
  {
   "cell_type": "code",
   "execution_count": null,
   "metadata": {},
   "outputs": [],
   "source": [
    "x3[2]=60"
   ]
  },
  {
   "cell_type": "code",
   "execution_count": null,
   "metadata": {},
   "outputs": [],
   "source": [
    "x3=[2,'a',60,'nL']\n",
    "print(x3)\n",
    "print(type(x3))"
   ]
  },
  {
   "cell_type": "code",
   "execution_count": null,
   "metadata": {},
   "outputs": [],
   "source": [
    "x3[1]=200\n",
    "x3"
   ]
  },
  {
   "cell_type": "markdown",
   "metadata": {},
   "source": [
    "- Dictionary"
   ]
  },
  {
   "cell_type": "code",
   "execution_count": 3,
   "metadata": {},
   "outputs": [],
   "source": [
    "d={'k1':(1,2,3),'k2':[50,'PD','NL'],'k3':'Premnath'}"
   ]
  },
  {
   "cell_type": "code",
   "execution_count": 4,
   "metadata": {},
   "outputs": [
    {
     "data": {
      "text/plain": [
       "{'k1': (1, 2, 3), 'k2': [50, 'PD', 'NL'], 'k3': 'Premnath'}"
      ]
     },
     "execution_count": 4,
     "metadata": {},
     "output_type": "execute_result"
    }
   ],
   "source": [
    "d"
   ]
  },
  {
   "cell_type": "code",
   "execution_count": null,
   "metadata": {},
   "outputs": [],
   "source": [
    "d['k1']"
   ]
  },
  {
   "cell_type": "code",
   "execution_count": null,
   "metadata": {},
   "outputs": [],
   "source": [
    "d.keys()"
   ]
  },
  {
   "cell_type": "code",
   "execution_count": null,
   "metadata": {},
   "outputs": [],
   "source": [
    "d['k3']"
   ]
  },
  {
   "cell_type": "markdown",
   "metadata": {},
   "source": [
    "- Set"
   ]
  },
  {
   "cell_type": "code",
   "execution_count": null,
   "metadata": {},
   "outputs": [],
   "source": [
    "s={1,2,3,4,4,5}"
   ]
  },
  {
   "cell_type": "code",
   "execution_count": null,
   "metadata": {},
   "outputs": [],
   "source": [
    "s"
   ]
  },
  {
   "cell_type": "code",
   "execution_count": 7,
   "metadata": {},
   "outputs": [
    {
     "data": {
      "text/plain": [
       "[1, 2, 3, 'a', 'b']"
      ]
     },
     "execution_count": 7,
     "metadata": {},
     "output_type": "execute_result"
    }
   ],
   "source": [
    "x4=[1,2,3]; \n",
    "x5=['a','b']\n",
    "x4+x5"
   ]
  },
  {
   "cell_type": "code",
   "execution_count": 8,
   "metadata": {},
   "outputs": [
    {
     "name": "stdout",
     "output_type": "stream",
     "text": [
      "[1, 2, 3, 1, 2, 3]\n",
      "['a', 'b', 'a', 'b']\n"
     ]
    }
   ],
   "source": [
    "print(x4*2)\n",
    "print(x5*2)"
   ]
  },
  {
   "cell_type": "code",
   "execution_count": 9,
   "metadata": {},
   "outputs": [
    {
     "data": {
      "text/plain": [
       "[1, 2, 3, 1, 2, 3]"
      ]
     },
     "execution_count": 9,
     "metadata": {},
     "output_type": "execute_result"
    }
   ],
   "source": [
    "2*x4"
   ]
  },
  {
   "cell_type": "code",
   "execution_count": null,
   "metadata": {},
   "outputs": [],
   "source": [
    "x4.append(x5)"
   ]
  },
  {
   "cell_type": "code",
   "execution_count": null,
   "metadata": {},
   "outputs": [],
   "source": [
    "x4"
   ]
  },
  {
   "cell_type": "code",
   "execution_count": null,
   "metadata": {},
   "outputs": [],
   "source": [
    "x4.count?"
   ]
  },
  {
   "cell_type": "code",
   "execution_count": null,
   "metadata": {},
   "outputs": [],
   "source": [
    "import numpy as np\n",
    "np.mean(x4)"
   ]
  },
  {
   "cell_type": "code",
   "execution_count": null,
   "metadata": {},
   "outputs": [],
   "source": [
    "from numpy import mean"
   ]
  },
  {
   "cell_type": "code",
   "execution_count": null,
   "metadata": {},
   "outputs": [],
   "source": [
    "mean(x4)"
   ]
  },
  {
   "cell_type": "code",
   "execution_count": null,
   "metadata": {},
   "outputs": [],
   "source": [
    "# Strings\n",
    "line1 = 'hello world'\n",
    "print(line1[0])\n",
    "print(len(line1))\n",
    "print(line1)"
   ]
  },
  {
   "cell_type": "code",
   "execution_count": null,
   "metadata": {},
   "outputs": [],
   "source": [
    "# Numbers\n",
    "val1 = 1255.9\n",
    "print(val1)\n",
    "val1 = 105\n",
    "print(val1)"
   ]
  },
  {
   "cell_type": "code",
   "execution_count": null,
   "metadata": {},
   "outputs": [],
   "source": [
    "# Boolean\n",
    "a = True\n",
    "b = False\n",
    "print(a, b)"
   ]
  },
  {
   "cell_type": "code",
   "execution_count": null,
   "metadata": {},
   "outputs": [],
   "source": [
    "# Multiple Assignment\n",
    "A, B, C = 1, 2, 3\n",
    "print(A, B, C)"
   ]
  },
  {
   "cell_type": "code",
   "execution_count": null,
   "metadata": {},
   "outputs": [],
   "source": [
    "# No value\n",
    "aa = None\n",
    "print(aa)"
   ]
  },
  {
   "cell_type": "code",
   "execution_count": null,
   "metadata": {},
   "outputs": [],
   "source": [
    "# The in Operator\n",
    "M = [11, 12, 14, 15]\n",
    "13 in M\n",
    "15 in M"
   ]
  },
  {
   "cell_type": "code",
   "execution_count": 10,
   "metadata": {},
   "outputs": [
    {
     "data": {
      "text/plain": [
       "True"
      ]
     },
     "execution_count": 10,
     "metadata": {},
     "output_type": "execute_result"
    }
   ],
   "source": [
    "# For strings, tests for substrings\n",
    "str1 = 'Anaconda'\n",
    "'Ana' in str1"
   ]
  },
  {
   "cell_type": "code",
   "execution_count": 11,
   "metadata": {},
   "outputs": [
    {
     "data": {
      "text/plain": [
       "False"
      ]
     },
     "execution_count": 11,
     "metadata": {},
     "output_type": "execute_result"
    }
   ],
   "source": [
    "'cda' in str1"
   ]
  },
  {
   "cell_type": "code",
   "execution_count": null,
   "metadata": {},
   "outputs": [],
   "source": [
    "x1=5\n",
    "type(x1)"
   ]
  },
  {
   "cell_type": "code",
   "execution_count": 12,
   "metadata": {},
   "outputs": [],
   "source": [
    "listt = ['Math', 'Chemistry', 1999, 2005]"
   ]
  },
  {
   "cell_type": "code",
   "execution_count": null,
   "metadata": {},
   "outputs": [],
   "source": [
    "listt[0] "
   ]
  },
  {
   "cell_type": "code",
   "execution_count": null,
   "metadata": {},
   "outputs": [],
   "source": [
    "listt[1:3]  "
   ]
  },
  {
   "cell_type": "code",
   "execution_count": null,
   "metadata": {},
   "outputs": [],
   "source": [
    "listt[-1]"
   ]
  },
  {
   "cell_type": "code",
   "execution_count": 14,
   "metadata": {},
   "outputs": [
    {
     "data": {
      "text/plain": [
       "['Math', 'Chemistry', 1999, 2005, 'Add', 'Add']"
      ]
     },
     "execution_count": 14,
     "metadata": {},
     "output_type": "execute_result"
    }
   ],
   "source": [
    "listt.append(\"Add\")\n",
    "listt"
   ]
  },
  {
   "cell_type": "code",
   "execution_count": 15,
   "metadata": {},
   "outputs": [
    {
     "data": {
      "text/plain": [
       "['Math', 'Chemistry', 'Cc', 1999, 2005, 'Add', 'Add']"
      ]
     },
     "execution_count": 15,
     "metadata": {},
     "output_type": "execute_result"
    }
   ],
   "source": [
    "listt.insert(2,\"Cc\")\n",
    "listt"
   ]
  },
  {
   "cell_type": "code",
   "execution_count": null,
   "metadata": {},
   "outputs": [],
   "source": [
    "list(range(10))"
   ]
  },
  {
   "cell_type": "code",
   "execution_count": null,
   "metadata": {},
   "outputs": [],
   "source": [
    "list(range(2,10))"
   ]
  },
  {
   "cell_type": "code",
   "execution_count": null,
   "metadata": {},
   "outputs": [],
   "source": [
    "list(range(2,10,2))"
   ]
  },
  {
   "cell_type": "code",
   "execution_count": null,
   "metadata": {},
   "outputs": [],
   "source": [
    "2 or 3"
   ]
  },
  {
   "cell_type": "code",
   "execution_count": null,
   "metadata": {},
   "outputs": [],
   "source": [
    "2 and 3"
   ]
  },
  {
   "cell_type": "code",
   "execution_count": null,
   "metadata": {},
   "outputs": [],
   "source": [
    "True and False"
   ]
  },
  {
   "cell_type": "code",
   "execution_count": null,
   "metadata": {},
   "outputs": [],
   "source": []
  }
 ],
 "metadata": {
  "kernelspec": {
   "display_name": "Python 3",
   "language": "python",
   "name": "python3"
  },
  "language_info": {
   "codemirror_mode": {
    "name": "ipython",
    "version": 3
   },
   "file_extension": ".py",
   "mimetype": "text/x-python",
   "name": "python",
   "nbconvert_exporter": "python",
   "pygments_lexer": "ipython3",
   "version": "3.6.4"
  }
 },
 "nbformat": 4,
 "nbformat_minor": 2
}
